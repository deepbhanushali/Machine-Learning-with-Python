{
  "nbformat": 4,
  "nbformat_minor": 0,
  "metadata": {
    "colab": {
      "name": "Spot checking algorithm.ipynb",
      "provenance": [],
      "collapsed_sections": []
    },
    "kernelspec": {
      "name": "python3",
      "display_name": "Python 3"
    }
  },
  "cells": [
    {
      "cell_type": "code",
      "metadata": {
        "id": "7Xo02NenQZEC",
        "colab_type": "code",
        "outputId": "6b2c5766-e947-4592-f2b6-0912c48af0ce",
        "colab": {
          "base_uri": "https://localhost:8080/",
          "height": 33
        }
      },
      "source": [
        "from google.colab import drive\n",
        "drive.mount('/content/drive')"
      ],
      "execution_count": 0,
      "outputs": [
        {
          "output_type": "stream",
          "text": [
            "Drive already mounted at /content/drive; to attempt to forcibly remount, call drive.mount(\"/content/drive\", force_remount=True).\n"
          ],
          "name": "stdout"
        }
      ]
    },
    {
      "cell_type": "code",
      "metadata": {
        "id": "82icXE920yWE",
        "colab_type": "code",
        "colab": {}
      },
      "source": [
        "!pip install -U -q PyDrive\n",
        "from pydrive.auth import GoogleAuth\n",
        "from pydrive.drive import GoogleDrive\n",
        "from google.colab import auth\n",
        "from oauth2client.client import GoogleCredentials\n",
        "import pandas as pd\n",
        "# Authenticate and create the PyDrive client.\n",
        "auth.authenticate_user()\n",
        "gauth = GoogleAuth()\n",
        "gauth.credentials = GoogleCredentials.get_application_default()\n",
        "drive = GoogleDrive(gauth)\n",
        "link=\"https://drive.google.com/open?id=1uRkuyMI8G7tEtnArNwPl-JkVOtnj-uXT\"\n",
        "fluff, id = link.split('=')\n",
        "downloaded = drive.CreateFile({'id':id})\n",
        "downloaded.GetContentFile('500Cities_cleandata_ReadyForEDA.csv')\n",
        "df = pd.read_csv('500Cities_cleandata_ReadyForEDA.csv')"
      ],
      "execution_count": 0,
      "outputs": []
    },
    {
      "cell_type": "code",
      "metadata": {
        "id": "HEYlVLzUQZNK",
        "colab_type": "code",
        "colab": {}
      },
      "source": [
        "import pandas as pd\n",
        "import numpy as np\n",
        "from sklearn.utils import shuffle\n",
        "from sklearn.model_selection import train_test_split\n",
        "from sklearn.model_selection import KFold\n",
        "from sklearn.model_selection import cross_val_score\n",
        "from sklearn.metrics import classification_report\n",
        "from sklearn.metrics import confusion_matrix\n",
        "from sklearn.metrics import accuracy_score\n",
        "from sklearn.linear_model import LogisticRegression\n",
        "from sklearn.tree import DecisionTreeClassifier\n",
        "from sklearn.neighbors import KNeighborsClassifier\n",
        "from sklearn.discriminant_analysis import LinearDiscriminantAnalysis\n",
        "from sklearn.naive_bayes import GaussianNB\n",
        "from sklearn.svm import SVC\n",
        "from sklearn.ensemble import GradientBoostingClassifier\n",
        "from sklearn.ensemble import RandomForestClassifier\n",
        "from sklearn.ensemble import ExtraTreesClassifier\n",
        "from sklearn.ensemble import BaggingClassifier"
      ],
      "execution_count": 0,
      "outputs": []
    },
    {
      "cell_type": "code",
      "metadata": {
        "id": "-9rtpIcnQZRC",
        "colab_type": "code",
        "colab": {}
      },
      "source": [
        "#Lets read in the data\n",
        "df = pd.read_csv('/content/drive/My Drive/Colab Notebooks/Exam/500Cities_cleandata_ReadyForEDA.csv')"
      ],
      "execution_count": 0,
      "outputs": []
    },
    {
      "cell_type": "code",
      "metadata": {
        "id": "xSvCSLWXQZUV",
        "colab_type": "code",
        "outputId": "22ab2789-3ce7-4b1d-d375-18e78f707fee",
        "colab": {
          "base_uri": "https://localhost:8080/",
          "height": 317
        }
      },
      "source": [
        "df.head()"
      ],
      "execution_count": 0,
      "outputs": [
        {
          "output_type": "execute_result",
          "data": {
            "text/html": [
              "<div>\n",
              "<style scoped>\n",
              "    .dataframe tbody tr th:only-of-type {\n",
              "        vertical-align: middle;\n",
              "    }\n",
              "\n",
              "    .dataframe tbody tr th {\n",
              "        vertical-align: top;\n",
              "    }\n",
              "\n",
              "    .dataframe thead th {\n",
              "        text-align: right;\n",
              "    }\n",
              "</style>\n",
              "<table border=\"1\" class=\"dataframe\">\n",
              "  <thead>\n",
              "    <tr style=\"text-align: right;\">\n",
              "      <th></th>\n",
              "      <th>Unnamed: 0</th>\n",
              "      <th>StateAbbr</th>\n",
              "      <th>PlaceName</th>\n",
              "      <th>PlaceFIPS</th>\n",
              "      <th>Population2010</th>\n",
              "      <th>ACCESS2_CrudePrev</th>\n",
              "      <th>ARTHRITIS_CrudePrev</th>\n",
              "      <th>BINGE_CrudePrev</th>\n",
              "      <th>BPHIGH_CrudePrev</th>\n",
              "      <th>BPMED_CrudePrev</th>\n",
              "      <th>CANCER_CrudePrev</th>\n",
              "      <th>CASTHMA_CrudePrev</th>\n",
              "      <th>CHD_CrudePrev</th>\n",
              "      <th>CHECKUP_CrudePrev</th>\n",
              "      <th>CHOLSCREEN_CrudePrev</th>\n",
              "      <th>COLON_SCREEN_CrudePrev</th>\n",
              "      <th>COPD_CrudePrev</th>\n",
              "      <th>COREM_CrudePrev</th>\n",
              "      <th>COREW_CrudePrev</th>\n",
              "      <th>CSMOKING_CrudePrev</th>\n",
              "      <th>DENTAL_CrudePrev</th>\n",
              "      <th>DIABETES_CrudePrev</th>\n",
              "      <th>HIGHCHOL_CrudePrev</th>\n",
              "      <th>KIDNEY_CrudePrev</th>\n",
              "      <th>LPA_CrudePrev</th>\n",
              "      <th>MAMMOUSE_CrudePrev</th>\n",
              "      <th>MHLTH_CrudePrev</th>\n",
              "      <th>OBESITY_CrudePrev</th>\n",
              "      <th>PAPTEST_CrudePrev</th>\n",
              "      <th>PHLTH_CrudePrev</th>\n",
              "      <th>SLEEP_CrudePrev</th>\n",
              "      <th>STROKE_CrudePrev</th>\n",
              "      <th>TEETHLOST_CrudePrev</th>\n",
              "      <th>Geolocation</th>\n",
              "    </tr>\n",
              "  </thead>\n",
              "  <tbody>\n",
              "    <tr>\n",
              "      <th>0</th>\n",
              "      <td>1</td>\n",
              "      <td>CA</td>\n",
              "      <td>Folsom</td>\n",
              "      <td>624638</td>\n",
              "      <td>72203</td>\n",
              "      <td>7.5</td>\n",
              "      <td>16.9</td>\n",
              "      <td>21.8</td>\n",
              "      <td>25.7</td>\n",
              "      <td>64.8</td>\n",
              "      <td>5.8</td>\n",
              "      <td>8.6</td>\n",
              "      <td>4.1</td>\n",
              "      <td>64.7</td>\n",
              "      <td>78.1</td>\n",
              "      <td>76.6</td>\n",
              "      <td>4.1</td>\n",
              "      <td>37.1</td>\n",
              "      <td>33.3</td>\n",
              "      <td>12.2</td>\n",
              "      <td>74.7</td>\n",
              "      <td>6.7</td>\n",
              "      <td>29.1</td>\n",
              "      <td>2.1</td>\n",
              "      <td>14.3</td>\n",
              "      <td>80.4</td>\n",
              "      <td>9.9</td>\n",
              "      <td>23.8</td>\n",
              "      <td>84.3</td>\n",
              "      <td>8.9</td>\n",
              "      <td>33.9</td>\n",
              "      <td>1.9</td>\n",
              "      <td>6.8</td>\n",
              "      <td>(38.67504943280, -121.147605753)</td>\n",
              "    </tr>\n",
              "    <tr>\n",
              "      <th>1</th>\n",
              "      <td>2</td>\n",
              "      <td>FL</td>\n",
              "      <td>Largo</td>\n",
              "      <td>1239425</td>\n",
              "      <td>77648</td>\n",
              "      <td>19.6</td>\n",
              "      <td>30.6</td>\n",
              "      <td>16.9</td>\n",
              "      <td>36.1</td>\n",
              "      <td>81.0</td>\n",
              "      <td>9.0</td>\n",
              "      <td>7.9</td>\n",
              "      <td>9.8</td>\n",
              "      <td>77.5</td>\n",
              "      <td>80.2</td>\n",
              "      <td>64.6</td>\n",
              "      <td>10.0</td>\n",
              "      <td>33.7</td>\n",
              "      <td>33.2</td>\n",
              "      <td>20.7</td>\n",
              "      <td>58.6</td>\n",
              "      <td>12.1</td>\n",
              "      <td>39.0</td>\n",
              "      <td>3.7</td>\n",
              "      <td>31.0</td>\n",
              "      <td>75.7</td>\n",
              "      <td>13.1</td>\n",
              "      <td>28.3</td>\n",
              "      <td>77.1</td>\n",
              "      <td>15.4</td>\n",
              "      <td>37.7</td>\n",
              "      <td>4.5</td>\n",
              "      <td>18.3</td>\n",
              "      <td>(27.90909077340, -82.7714203383)</td>\n",
              "    </tr>\n",
              "    <tr>\n",
              "      <th>2</th>\n",
              "      <td>3</td>\n",
              "      <td>CA</td>\n",
              "      <td>Berkeley</td>\n",
              "      <td>606000</td>\n",
              "      <td>112580</td>\n",
              "      <td>7.7</td>\n",
              "      <td>15.1</td>\n",
              "      <td>19.6</td>\n",
              "      <td>20.9</td>\n",
              "      <td>68.2</td>\n",
              "      <td>4.9</td>\n",
              "      <td>8.8</td>\n",
              "      <td>3.7</td>\n",
              "      <td>64.7</td>\n",
              "      <td>70.0</td>\n",
              "      <td>75.4</td>\n",
              "      <td>3.7</td>\n",
              "      <td>38.2</td>\n",
              "      <td>36.6</td>\n",
              "      <td>11.2</td>\n",
              "      <td>70.0</td>\n",
              "      <td>6.5</td>\n",
              "      <td>27.1</td>\n",
              "      <td>2.1</td>\n",
              "      <td>14.2</td>\n",
              "      <td>81.5</td>\n",
              "      <td>10.9</td>\n",
              "      <td>18.5</td>\n",
              "      <td>83.2</td>\n",
              "      <td>8.2</td>\n",
              "      <td>32.2</td>\n",
              "      <td>1.9</td>\n",
              "      <td>6.7</td>\n",
              "      <td>(37.87256787650, -122.274907975)</td>\n",
              "    </tr>\n",
              "    <tr>\n",
              "      <th>3</th>\n",
              "      <td>4</td>\n",
              "      <td>CA</td>\n",
              "      <td>Napa</td>\n",
              "      <td>650258</td>\n",
              "      <td>76915</td>\n",
              "      <td>12.3</td>\n",
              "      <td>20.7</td>\n",
              "      <td>19.2</td>\n",
              "      <td>28.1</td>\n",
              "      <td>70.2</td>\n",
              "      <td>6.5</td>\n",
              "      <td>8.9</td>\n",
              "      <td>5.8</td>\n",
              "      <td>63.8</td>\n",
              "      <td>75.4</td>\n",
              "      <td>69.3</td>\n",
              "      <td>5.9</td>\n",
              "      <td>37.9</td>\n",
              "      <td>30.3</td>\n",
              "      <td>14.5</td>\n",
              "      <td>70.2</td>\n",
              "      <td>8.9</td>\n",
              "      <td>34.1</td>\n",
              "      <td>2.8</td>\n",
              "      <td>19.8</td>\n",
              "      <td>76.7</td>\n",
              "      <td>12.0</td>\n",
              "      <td>24.0</td>\n",
              "      <td>83.9</td>\n",
              "      <td>12.0</td>\n",
              "      <td>32.7</td>\n",
              "      <td>2.8</td>\n",
              "      <td>11.2</td>\n",
              "      <td>(38.29804246490, -122.301093331)</td>\n",
              "    </tr>\n",
              "    <tr>\n",
              "      <th>4</th>\n",
              "      <td>5</td>\n",
              "      <td>FL</td>\n",
              "      <td>Sunrise</td>\n",
              "      <td>1269700</td>\n",
              "      <td>84439</td>\n",
              "      <td>22.8</td>\n",
              "      <td>22.8</td>\n",
              "      <td>16.3</td>\n",
              "      <td>33.3</td>\n",
              "      <td>76.7</td>\n",
              "      <td>6.5</td>\n",
              "      <td>8.0</td>\n",
              "      <td>6.7</td>\n",
              "      <td>77.7</td>\n",
              "      <td>78.7</td>\n",
              "      <td>59.7</td>\n",
              "      <td>7.0</td>\n",
              "      <td>30.5</td>\n",
              "      <td>26.2</td>\n",
              "      <td>16.5</td>\n",
              "      <td>61.0</td>\n",
              "      <td>12.1</td>\n",
              "      <td>37.1</td>\n",
              "      <td>3.2</td>\n",
              "      <td>29.5</td>\n",
              "      <td>82.5</td>\n",
              "      <td>12.7</td>\n",
              "      <td>28.1</td>\n",
              "      <td>81.3</td>\n",
              "      <td>13.3</td>\n",
              "      <td>38.1</td>\n",
              "      <td>3.7</td>\n",
              "      <td>16.2</td>\n",
              "      <td>(26.15468783030, -80.2998411020)</td>\n",
              "    </tr>\n",
              "  </tbody>\n",
              "</table>\n",
              "</div>"
            ],
            "text/plain": [
              "   Unnamed: 0 StateAbbr  ... TEETHLOST_CrudePrev                       Geolocation\n",
              "0           1        CA  ...                 6.8  (38.67504943280, -121.147605753)\n",
              "1           2        FL  ...                18.3  (27.90909077340, -82.7714203383)\n",
              "2           3        CA  ...                 6.7  (37.87256787650, -122.274907975)\n",
              "3           4        CA  ...                11.2  (38.29804246490, -122.301093331)\n",
              "4           5        FL  ...                16.2  (26.15468783030, -80.2998411020)\n",
              "\n",
              "[5 rows x 34 columns]"
            ]
          },
          "metadata": {
            "tags": []
          },
          "execution_count": 3
        }
      ]
    },
    {
      "cell_type": "code",
      "metadata": {
        "id": "2RCtVIHjlU7K",
        "colab_type": "code",
        "outputId": "6d01d2be-1f4e-4172-b356-625eee5fe476",
        "colab": {
          "base_uri": "https://localhost:8080/",
          "height": 33
        }
      },
      "source": [
        "df.shape"
      ],
      "execution_count": 0,
      "outputs": [
        {
          "output_type": "execute_result",
          "data": {
            "text/plain": [
              "(500, 34)"
            ]
          },
          "metadata": {
            "tags": []
          },
          "execution_count": 4
        }
      ]
    },
    {
      "cell_type": "code",
      "metadata": {
        "id": "6JEAPCG6QZaH",
        "colab_type": "code",
        "colab": {}
      },
      "source": [
        "#Lets set the random seed to 123\n",
        "np.random.seed(123)"
      ],
      "execution_count": 0,
      "outputs": []
    },
    {
      "cell_type": "code",
      "metadata": {
        "id": "7INN224NR6Ti",
        "colab_type": "code",
        "colab": {}
      },
      "source": [
        "#Time to shuffle our data\n",
        "df = shuffle(df)"
      ],
      "execution_count": 0,
      "outputs": []
    },
    {
      "cell_type": "code",
      "metadata": {
        "id": "QYQZCH7IR6WZ",
        "colab_type": "code",
        "colab": {}
      },
      "source": [
        "#Lets calculate mean of Population2010 first\n",
        "median_pop = round(np.median(df['Population2010']),2)"
      ],
      "execution_count": 0,
      "outputs": []
    },
    {
      "cell_type": "code",
      "metadata": {
        "id": "bKr5zzhSR6ZY",
        "colab_type": "code",
        "outputId": "7e96d4d1-e91b-439f-c618-95485d977140",
        "colab": {
          "base_uri": "https://localhost:8080/",
          "height": 33
        }
      },
      "source": [
        "print(median_pop)"
      ],
      "execution_count": 0,
      "outputs": [
        {
          "output_type": "stream",
          "text": [
            "106106.0\n"
          ],
          "name": "stdout"
        }
      ]
    },
    {
      "cell_type": "code",
      "metadata": {
        "id": "zh6T4ngVR6cJ",
        "colab_type": "code",
        "colab": {}
      },
      "source": [
        "#Lets recode columns now based on median value\n",
        "df['Population2010'] = np.where(df['Population2010'] > median_pop, '1', '0')"
      ],
      "execution_count": 0,
      "outputs": []
    },
    {
      "cell_type": "code",
      "metadata": {
        "id": "THXI5RBDXMyg",
        "colab_type": "code",
        "outputId": "497f4b38-be98-41eb-9b2b-e8a8e8109610",
        "colab": {
          "base_uri": "https://localhost:8080/",
          "height": 317
        }
      },
      "source": [
        "df.head()"
      ],
      "execution_count": 0,
      "outputs": [
        {
          "output_type": "execute_result",
          "data": {
            "text/html": [
              "<div>\n",
              "<style scoped>\n",
              "    .dataframe tbody tr th:only-of-type {\n",
              "        vertical-align: middle;\n",
              "    }\n",
              "\n",
              "    .dataframe tbody tr th {\n",
              "        vertical-align: top;\n",
              "    }\n",
              "\n",
              "    .dataframe thead th {\n",
              "        text-align: right;\n",
              "    }\n",
              "</style>\n",
              "<table border=\"1\" class=\"dataframe\">\n",
              "  <thead>\n",
              "    <tr style=\"text-align: right;\">\n",
              "      <th></th>\n",
              "      <th>Unnamed: 0</th>\n",
              "      <th>StateAbbr</th>\n",
              "      <th>PlaceName</th>\n",
              "      <th>PlaceFIPS</th>\n",
              "      <th>Population2010</th>\n",
              "      <th>ACCESS2_CrudePrev</th>\n",
              "      <th>ARTHRITIS_CrudePrev</th>\n",
              "      <th>BINGE_CrudePrev</th>\n",
              "      <th>BPHIGH_CrudePrev</th>\n",
              "      <th>BPMED_CrudePrev</th>\n",
              "      <th>CANCER_CrudePrev</th>\n",
              "      <th>CASTHMA_CrudePrev</th>\n",
              "      <th>CHD_CrudePrev</th>\n",
              "      <th>CHECKUP_CrudePrev</th>\n",
              "      <th>CHOLSCREEN_CrudePrev</th>\n",
              "      <th>COLON_SCREEN_CrudePrev</th>\n",
              "      <th>COPD_CrudePrev</th>\n",
              "      <th>COREM_CrudePrev</th>\n",
              "      <th>COREW_CrudePrev</th>\n",
              "      <th>CSMOKING_CrudePrev</th>\n",
              "      <th>DENTAL_CrudePrev</th>\n",
              "      <th>DIABETES_CrudePrev</th>\n",
              "      <th>HIGHCHOL_CrudePrev</th>\n",
              "      <th>KIDNEY_CrudePrev</th>\n",
              "      <th>LPA_CrudePrev</th>\n",
              "      <th>MAMMOUSE_CrudePrev</th>\n",
              "      <th>MHLTH_CrudePrev</th>\n",
              "      <th>OBESITY_CrudePrev</th>\n",
              "      <th>PAPTEST_CrudePrev</th>\n",
              "      <th>PHLTH_CrudePrev</th>\n",
              "      <th>SLEEP_CrudePrev</th>\n",
              "      <th>STROKE_CrudePrev</th>\n",
              "      <th>TEETHLOST_CrudePrev</th>\n",
              "      <th>Geolocation</th>\n",
              "    </tr>\n",
              "  </thead>\n",
              "  <tbody>\n",
              "    <tr>\n",
              "      <th>229</th>\n",
              "      <td>230</td>\n",
              "      <td>TX</td>\n",
              "      <td>Longview</td>\n",
              "      <td>4843888</td>\n",
              "      <td>0</td>\n",
              "      <td>22.3</td>\n",
              "      <td>25.3</td>\n",
              "      <td>17.3</td>\n",
              "      <td>34.5</td>\n",
              "      <td>77.2</td>\n",
              "      <td>6.4</td>\n",
              "      <td>9.7</td>\n",
              "      <td>6.8</td>\n",
              "      <td>69.8</td>\n",
              "      <td>71.9</td>\n",
              "      <td>60.8</td>\n",
              "      <td>7.2</td>\n",
              "      <td>35.2</td>\n",
              "      <td>29.5</td>\n",
              "      <td>19.8</td>\n",
              "      <td>55.8</td>\n",
              "      <td>12.2</td>\n",
              "      <td>37.7</td>\n",
              "      <td>3.2</td>\n",
              "      <td>28.8</td>\n",
              "      <td>75.3</td>\n",
              "      <td>13.6</td>\n",
              "      <td>36.2</td>\n",
              "      <td>80.8</td>\n",
              "      <td>13.8</td>\n",
              "      <td>35.2</td>\n",
              "      <td>3.7</td>\n",
              "      <td>16.5</td>\n",
              "      <td>(32.51928578560, -94.7621975980)</td>\n",
              "    </tr>\n",
              "    <tr>\n",
              "      <th>337</th>\n",
              "      <td>338</td>\n",
              "      <td>NV</td>\n",
              "      <td>North Las Vegas</td>\n",
              "      <td>3251800</td>\n",
              "      <td>1</td>\n",
              "      <td>22.4</td>\n",
              "      <td>20.2</td>\n",
              "      <td>16.5</td>\n",
              "      <td>25.7</td>\n",
              "      <td>68.3</td>\n",
              "      <td>4.5</td>\n",
              "      <td>9.1</td>\n",
              "      <td>5.5</td>\n",
              "      <td>67.2</td>\n",
              "      <td>67.1</td>\n",
              "      <td>53.8</td>\n",
              "      <td>6.7</td>\n",
              "      <td>29.6</td>\n",
              "      <td>25.0</td>\n",
              "      <td>21.1</td>\n",
              "      <td>54.2</td>\n",
              "      <td>11.3</td>\n",
              "      <td>32.5</td>\n",
              "      <td>2.9</td>\n",
              "      <td>27.8</td>\n",
              "      <td>74.4</td>\n",
              "      <td>15.8</td>\n",
              "      <td>29.0</td>\n",
              "      <td>79.8</td>\n",
              "      <td>14.4</td>\n",
              "      <td>43.1</td>\n",
              "      <td>3.0</td>\n",
              "      <td>18.2</td>\n",
              "      <td>(36.28919935620, -115.088496088)</td>\n",
              "    </tr>\n",
              "    <tr>\n",
              "      <th>327</th>\n",
              "      <td>328</td>\n",
              "      <td>MI</td>\n",
              "      <td>Ann Arbor</td>\n",
              "      <td>2603000</td>\n",
              "      <td>1</td>\n",
              "      <td>9.0</td>\n",
              "      <td>18.3</td>\n",
              "      <td>23.0</td>\n",
              "      <td>19.1</td>\n",
              "      <td>68.1</td>\n",
              "      <td>4.6</td>\n",
              "      <td>9.8</td>\n",
              "      <td>3.6</td>\n",
              "      <td>66.1</td>\n",
              "      <td>66.4</td>\n",
              "      <td>73.4</td>\n",
              "      <td>4.4</td>\n",
              "      <td>38.6</td>\n",
              "      <td>41.2</td>\n",
              "      <td>13.2</td>\n",
              "      <td>75.5</td>\n",
              "      <td>5.7</td>\n",
              "      <td>29.3</td>\n",
              "      <td>1.9</td>\n",
              "      <td>15.7</td>\n",
              "      <td>84.1</td>\n",
              "      <td>12.3</td>\n",
              "      <td>23.4</td>\n",
              "      <td>83.6</td>\n",
              "      <td>7.9</td>\n",
              "      <td>31.1</td>\n",
              "      <td>1.7</td>\n",
              "      <td>6.6</td>\n",
              "      <td>(42.27568335670, -83.7311374448)</td>\n",
              "    </tr>\n",
              "    <tr>\n",
              "      <th>416</th>\n",
              "      <td>417</td>\n",
              "      <td>CO</td>\n",
              "      <td>Westminster</td>\n",
              "      <td>883835</td>\n",
              "      <td>1</td>\n",
              "      <td>11.3</td>\n",
              "      <td>20.7</td>\n",
              "      <td>20.7</td>\n",
              "      <td>22.5</td>\n",
              "      <td>66.9</td>\n",
              "      <td>5.5</td>\n",
              "      <td>8.9</td>\n",
              "      <td>4.2</td>\n",
              "      <td>60.6</td>\n",
              "      <td>74.6</td>\n",
              "      <td>65.2</td>\n",
              "      <td>4.3</td>\n",
              "      <td>37.9</td>\n",
              "      <td>34.9</td>\n",
              "      <td>17.2</td>\n",
              "      <td>68.7</td>\n",
              "      <td>6.1</td>\n",
              "      <td>30.6</td>\n",
              "      <td>2.2</td>\n",
              "      <td>15.4</td>\n",
              "      <td>74.5</td>\n",
              "      <td>10.6</td>\n",
              "      <td>24.0</td>\n",
              "      <td>83.5</td>\n",
              "      <td>9.7</td>\n",
              "      <td>29.1</td>\n",
              "      <td>2.1</td>\n",
              "      <td>11.0</td>\n",
              "      <td>(39.88385114750, -105.062645316)</td>\n",
              "    </tr>\n",
              "    <tr>\n",
              "      <th>306</th>\n",
              "      <td>307</td>\n",
              "      <td>TX</td>\n",
              "      <td>Corpus Christi</td>\n",
              "      <td>4817000</td>\n",
              "      <td>1</td>\n",
              "      <td>27.4</td>\n",
              "      <td>23.9</td>\n",
              "      <td>18.1</td>\n",
              "      <td>32.5</td>\n",
              "      <td>76.7</td>\n",
              "      <td>5.4</td>\n",
              "      <td>8.6</td>\n",
              "      <td>6.5</td>\n",
              "      <td>69.8</td>\n",
              "      <td>72.3</td>\n",
              "      <td>60.4</td>\n",
              "      <td>6.0</td>\n",
              "      <td>31.5</td>\n",
              "      <td>29.8</td>\n",
              "      <td>16.7</td>\n",
              "      <td>56.9</td>\n",
              "      <td>14.4</td>\n",
              "      <td>38.2</td>\n",
              "      <td>3.2</td>\n",
              "      <td>30.0</td>\n",
              "      <td>79.8</td>\n",
              "      <td>12.2</td>\n",
              "      <td>37.2</td>\n",
              "      <td>82.3</td>\n",
              "      <td>14.1</td>\n",
              "      <td>33.9</td>\n",
              "      <td>3.1</td>\n",
              "      <td>15.1</td>\n",
              "      <td>(27.72915883370, -97.4019095379)</td>\n",
              "    </tr>\n",
              "  </tbody>\n",
              "</table>\n",
              "</div>"
            ],
            "text/plain": [
              "     Unnamed: 0  ...                       Geolocation\n",
              "229         230  ...  (32.51928578560, -94.7621975980)\n",
              "337         338  ...  (36.28919935620, -115.088496088)\n",
              "327         328  ...  (42.27568335670, -83.7311374448)\n",
              "416         417  ...  (39.88385114750, -105.062645316)\n",
              "306         307  ...  (27.72915883370, -97.4019095379)\n",
              "\n",
              "[5 rows x 34 columns]"
            ]
          },
          "metadata": {
            "tags": []
          },
          "execution_count": 12
        }
      ]
    },
    {
      "cell_type": "code",
      "metadata": {
        "id": "uzBBF8TwXM1T",
        "colab_type": "code",
        "colab": {}
      },
      "source": [
        "#Lets drop all the rows with NA values\n",
        "df = df.dropna()"
      ],
      "execution_count": 0,
      "outputs": []
    },
    {
      "cell_type": "code",
      "metadata": {
        "id": "nXD5ZvzoXM4E",
        "colab_type": "code",
        "outputId": "bb6a04f5-c2ca-407c-a967-694695f9c0d3",
        "colab": {
          "base_uri": "https://localhost:8080/",
          "height": 33
        }
      },
      "source": [
        "df.shape"
      ],
      "execution_count": 0,
      "outputs": [
        {
          "output_type": "execute_result",
          "data": {
            "text/plain": [
              "(453, 34)"
            ]
          },
          "metadata": {
            "tags": []
          },
          "execution_count": 14
        }
      ]
    },
    {
      "cell_type": "code",
      "metadata": {
        "id": "ApqCEwu4lNk0",
        "colab_type": "code",
        "outputId": "4dc3f1ea-4673-411b-c0c8-566787e839a5",
        "colab": {
          "base_uri": "https://localhost:8080/",
          "height": 317
        }
      },
      "source": [
        "df.head()"
      ],
      "execution_count": 0,
      "outputs": [
        {
          "output_type": "execute_result",
          "data": {
            "text/html": [
              "<div>\n",
              "<style scoped>\n",
              "    .dataframe tbody tr th:only-of-type {\n",
              "        vertical-align: middle;\n",
              "    }\n",
              "\n",
              "    .dataframe tbody tr th {\n",
              "        vertical-align: top;\n",
              "    }\n",
              "\n",
              "    .dataframe thead th {\n",
              "        text-align: right;\n",
              "    }\n",
              "</style>\n",
              "<table border=\"1\" class=\"dataframe\">\n",
              "  <thead>\n",
              "    <tr style=\"text-align: right;\">\n",
              "      <th></th>\n",
              "      <th>Unnamed: 0</th>\n",
              "      <th>StateAbbr</th>\n",
              "      <th>PlaceName</th>\n",
              "      <th>PlaceFIPS</th>\n",
              "      <th>Population2010</th>\n",
              "      <th>ACCESS2_CrudePrev</th>\n",
              "      <th>ARTHRITIS_CrudePrev</th>\n",
              "      <th>BINGE_CrudePrev</th>\n",
              "      <th>BPHIGH_CrudePrev</th>\n",
              "      <th>BPMED_CrudePrev</th>\n",
              "      <th>CANCER_CrudePrev</th>\n",
              "      <th>CASTHMA_CrudePrev</th>\n",
              "      <th>CHD_CrudePrev</th>\n",
              "      <th>CHECKUP_CrudePrev</th>\n",
              "      <th>CHOLSCREEN_CrudePrev</th>\n",
              "      <th>COLON_SCREEN_CrudePrev</th>\n",
              "      <th>COPD_CrudePrev</th>\n",
              "      <th>COREM_CrudePrev</th>\n",
              "      <th>COREW_CrudePrev</th>\n",
              "      <th>CSMOKING_CrudePrev</th>\n",
              "      <th>DENTAL_CrudePrev</th>\n",
              "      <th>DIABETES_CrudePrev</th>\n",
              "      <th>HIGHCHOL_CrudePrev</th>\n",
              "      <th>KIDNEY_CrudePrev</th>\n",
              "      <th>LPA_CrudePrev</th>\n",
              "      <th>MAMMOUSE_CrudePrev</th>\n",
              "      <th>MHLTH_CrudePrev</th>\n",
              "      <th>OBESITY_CrudePrev</th>\n",
              "      <th>PAPTEST_CrudePrev</th>\n",
              "      <th>PHLTH_CrudePrev</th>\n",
              "      <th>SLEEP_CrudePrev</th>\n",
              "      <th>STROKE_CrudePrev</th>\n",
              "      <th>TEETHLOST_CrudePrev</th>\n",
              "      <th>Geolocation</th>\n",
              "    </tr>\n",
              "  </thead>\n",
              "  <tbody>\n",
              "    <tr>\n",
              "      <th>229</th>\n",
              "      <td>230</td>\n",
              "      <td>TX</td>\n",
              "      <td>Longview</td>\n",
              "      <td>4843888</td>\n",
              "      <td>0</td>\n",
              "      <td>22.3</td>\n",
              "      <td>25.3</td>\n",
              "      <td>17.3</td>\n",
              "      <td>34.5</td>\n",
              "      <td>77.2</td>\n",
              "      <td>6.4</td>\n",
              "      <td>9.7</td>\n",
              "      <td>6.8</td>\n",
              "      <td>69.8</td>\n",
              "      <td>71.9</td>\n",
              "      <td>60.8</td>\n",
              "      <td>7.2</td>\n",
              "      <td>35.2</td>\n",
              "      <td>29.5</td>\n",
              "      <td>19.8</td>\n",
              "      <td>55.8</td>\n",
              "      <td>12.2</td>\n",
              "      <td>37.7</td>\n",
              "      <td>3.2</td>\n",
              "      <td>28.8</td>\n",
              "      <td>75.3</td>\n",
              "      <td>13.6</td>\n",
              "      <td>36.2</td>\n",
              "      <td>80.8</td>\n",
              "      <td>13.8</td>\n",
              "      <td>35.2</td>\n",
              "      <td>3.7</td>\n",
              "      <td>16.5</td>\n",
              "      <td>(32.51928578560, -94.7621975980)</td>\n",
              "    </tr>\n",
              "    <tr>\n",
              "      <th>337</th>\n",
              "      <td>338</td>\n",
              "      <td>NV</td>\n",
              "      <td>North Las Vegas</td>\n",
              "      <td>3251800</td>\n",
              "      <td>1</td>\n",
              "      <td>22.4</td>\n",
              "      <td>20.2</td>\n",
              "      <td>16.5</td>\n",
              "      <td>25.7</td>\n",
              "      <td>68.3</td>\n",
              "      <td>4.5</td>\n",
              "      <td>9.1</td>\n",
              "      <td>5.5</td>\n",
              "      <td>67.2</td>\n",
              "      <td>67.1</td>\n",
              "      <td>53.8</td>\n",
              "      <td>6.7</td>\n",
              "      <td>29.6</td>\n",
              "      <td>25.0</td>\n",
              "      <td>21.1</td>\n",
              "      <td>54.2</td>\n",
              "      <td>11.3</td>\n",
              "      <td>32.5</td>\n",
              "      <td>2.9</td>\n",
              "      <td>27.8</td>\n",
              "      <td>74.4</td>\n",
              "      <td>15.8</td>\n",
              "      <td>29.0</td>\n",
              "      <td>79.8</td>\n",
              "      <td>14.4</td>\n",
              "      <td>43.1</td>\n",
              "      <td>3.0</td>\n",
              "      <td>18.2</td>\n",
              "      <td>(36.28919935620, -115.088496088)</td>\n",
              "    </tr>\n",
              "    <tr>\n",
              "      <th>327</th>\n",
              "      <td>328</td>\n",
              "      <td>MI</td>\n",
              "      <td>Ann Arbor</td>\n",
              "      <td>2603000</td>\n",
              "      <td>1</td>\n",
              "      <td>9.0</td>\n",
              "      <td>18.3</td>\n",
              "      <td>23.0</td>\n",
              "      <td>19.1</td>\n",
              "      <td>68.1</td>\n",
              "      <td>4.6</td>\n",
              "      <td>9.8</td>\n",
              "      <td>3.6</td>\n",
              "      <td>66.1</td>\n",
              "      <td>66.4</td>\n",
              "      <td>73.4</td>\n",
              "      <td>4.4</td>\n",
              "      <td>38.6</td>\n",
              "      <td>41.2</td>\n",
              "      <td>13.2</td>\n",
              "      <td>75.5</td>\n",
              "      <td>5.7</td>\n",
              "      <td>29.3</td>\n",
              "      <td>1.9</td>\n",
              "      <td>15.7</td>\n",
              "      <td>84.1</td>\n",
              "      <td>12.3</td>\n",
              "      <td>23.4</td>\n",
              "      <td>83.6</td>\n",
              "      <td>7.9</td>\n",
              "      <td>31.1</td>\n",
              "      <td>1.7</td>\n",
              "      <td>6.6</td>\n",
              "      <td>(42.27568335670, -83.7311374448)</td>\n",
              "    </tr>\n",
              "    <tr>\n",
              "      <th>416</th>\n",
              "      <td>417</td>\n",
              "      <td>CO</td>\n",
              "      <td>Westminster</td>\n",
              "      <td>883835</td>\n",
              "      <td>1</td>\n",
              "      <td>11.3</td>\n",
              "      <td>20.7</td>\n",
              "      <td>20.7</td>\n",
              "      <td>22.5</td>\n",
              "      <td>66.9</td>\n",
              "      <td>5.5</td>\n",
              "      <td>8.9</td>\n",
              "      <td>4.2</td>\n",
              "      <td>60.6</td>\n",
              "      <td>74.6</td>\n",
              "      <td>65.2</td>\n",
              "      <td>4.3</td>\n",
              "      <td>37.9</td>\n",
              "      <td>34.9</td>\n",
              "      <td>17.2</td>\n",
              "      <td>68.7</td>\n",
              "      <td>6.1</td>\n",
              "      <td>30.6</td>\n",
              "      <td>2.2</td>\n",
              "      <td>15.4</td>\n",
              "      <td>74.5</td>\n",
              "      <td>10.6</td>\n",
              "      <td>24.0</td>\n",
              "      <td>83.5</td>\n",
              "      <td>9.7</td>\n",
              "      <td>29.1</td>\n",
              "      <td>2.1</td>\n",
              "      <td>11.0</td>\n",
              "      <td>(39.88385114750, -105.062645316)</td>\n",
              "    </tr>\n",
              "    <tr>\n",
              "      <th>306</th>\n",
              "      <td>307</td>\n",
              "      <td>TX</td>\n",
              "      <td>Corpus Christi</td>\n",
              "      <td>4817000</td>\n",
              "      <td>1</td>\n",
              "      <td>27.4</td>\n",
              "      <td>23.9</td>\n",
              "      <td>18.1</td>\n",
              "      <td>32.5</td>\n",
              "      <td>76.7</td>\n",
              "      <td>5.4</td>\n",
              "      <td>8.6</td>\n",
              "      <td>6.5</td>\n",
              "      <td>69.8</td>\n",
              "      <td>72.3</td>\n",
              "      <td>60.4</td>\n",
              "      <td>6.0</td>\n",
              "      <td>31.5</td>\n",
              "      <td>29.8</td>\n",
              "      <td>16.7</td>\n",
              "      <td>56.9</td>\n",
              "      <td>14.4</td>\n",
              "      <td>38.2</td>\n",
              "      <td>3.2</td>\n",
              "      <td>30.0</td>\n",
              "      <td>79.8</td>\n",
              "      <td>12.2</td>\n",
              "      <td>37.2</td>\n",
              "      <td>82.3</td>\n",
              "      <td>14.1</td>\n",
              "      <td>33.9</td>\n",
              "      <td>3.1</td>\n",
              "      <td>15.1</td>\n",
              "      <td>(27.72915883370, -97.4019095379)</td>\n",
              "    </tr>\n",
              "  </tbody>\n",
              "</table>\n",
              "</div>"
            ],
            "text/plain": [
              "     Unnamed: 0  ...                       Geolocation\n",
              "229         230  ...  (32.51928578560, -94.7621975980)\n",
              "337         338  ...  (36.28919935620, -115.088496088)\n",
              "327         328  ...  (42.27568335670, -83.7311374448)\n",
              "416         417  ...  (39.88385114750, -105.062645316)\n",
              "306         307  ...  (27.72915883370, -97.4019095379)\n",
              "\n",
              "[5 rows x 34 columns]"
            ]
          },
          "metadata": {
            "tags": []
          },
          "execution_count": 15
        }
      ]
    },
    {
      "cell_type": "code",
      "metadata": {
        "id": "morZuWJkTtAP",
        "colab_type": "code",
        "colab": {}
      },
      "source": [
        "#Lets remove the geographical variables now\n",
        "df = df.drop(['Unnamed: 0',\n",
        "              'Geolocation', 'StateAbbr', 'PlaceName','PlaceFIPS' ], axis =1)"
      ],
      "execution_count": 0,
      "outputs": []
    },
    {
      "cell_type": "code",
      "metadata": {
        "id": "F9MSD93XVNww",
        "colab_type": "code",
        "outputId": "f6b87c06-3b80-4d24-9e64-b82ec5904fbf",
        "colab": {
          "base_uri": "https://localhost:8080/",
          "height": 33
        }
      },
      "source": [
        "df.shape"
      ],
      "execution_count": 0,
      "outputs": [
        {
          "output_type": "execute_result",
          "data": {
            "text/plain": [
              "(453, 29)"
            ]
          },
          "metadata": {
            "tags": []
          },
          "execution_count": 17
        }
      ]
    },
    {
      "cell_type": "code",
      "metadata": {
        "id": "SbqATvuGXM8r",
        "colab_type": "code",
        "colab": {}
      },
      "source": [
        "#Lets split the data into training and validation first\n",
        "y = df['Population2010']\n",
        "X = df.drop(columns='Population2010')"
      ],
      "execution_count": 0,
      "outputs": []
    },
    {
      "cell_type": "code",
      "metadata": {
        "id": "BO_Tbh_jXNB-",
        "colab_type": "code",
        "outputId": "80f2bac7-dcda-4e4a-a10a-68d66c48cdc0",
        "colab": {
          "base_uri": "https://localhost:8080/",
          "height": 33
        }
      },
      "source": [
        "print(X.shape, y.shape)"
      ],
      "execution_count": 0,
      "outputs": [
        {
          "output_type": "stream",
          "text": [
            "(453, 28) (453,)\n"
          ],
          "name": "stdout"
        }
      ]
    },
    {
      "cell_type": "code",
      "metadata": {
        "id": "SJuhAD4BXNFA",
        "colab_type": "code",
        "outputId": "3ec85176-e327-4ecf-c12b-bc329af1b230",
        "colab": {
          "base_uri": "https://localhost:8080/",
          "height": 216
        }
      },
      "source": [
        "X.head()"
      ],
      "execution_count": 0,
      "outputs": [
        {
          "output_type": "execute_result",
          "data": {
            "text/html": [
              "<div>\n",
              "<style scoped>\n",
              "    .dataframe tbody tr th:only-of-type {\n",
              "        vertical-align: middle;\n",
              "    }\n",
              "\n",
              "    .dataframe tbody tr th {\n",
              "        vertical-align: top;\n",
              "    }\n",
              "\n",
              "    .dataframe thead th {\n",
              "        text-align: right;\n",
              "    }\n",
              "</style>\n",
              "<table border=\"1\" class=\"dataframe\">\n",
              "  <thead>\n",
              "    <tr style=\"text-align: right;\">\n",
              "      <th></th>\n",
              "      <th>ACCESS2_CrudePrev</th>\n",
              "      <th>ARTHRITIS_CrudePrev</th>\n",
              "      <th>BINGE_CrudePrev</th>\n",
              "      <th>BPHIGH_CrudePrev</th>\n",
              "      <th>BPMED_CrudePrev</th>\n",
              "      <th>CANCER_CrudePrev</th>\n",
              "      <th>CASTHMA_CrudePrev</th>\n",
              "      <th>CHD_CrudePrev</th>\n",
              "      <th>CHECKUP_CrudePrev</th>\n",
              "      <th>CHOLSCREEN_CrudePrev</th>\n",
              "      <th>COLON_SCREEN_CrudePrev</th>\n",
              "      <th>COPD_CrudePrev</th>\n",
              "      <th>COREM_CrudePrev</th>\n",
              "      <th>COREW_CrudePrev</th>\n",
              "      <th>CSMOKING_CrudePrev</th>\n",
              "      <th>DENTAL_CrudePrev</th>\n",
              "      <th>DIABETES_CrudePrev</th>\n",
              "      <th>HIGHCHOL_CrudePrev</th>\n",
              "      <th>KIDNEY_CrudePrev</th>\n",
              "      <th>LPA_CrudePrev</th>\n",
              "      <th>MAMMOUSE_CrudePrev</th>\n",
              "      <th>MHLTH_CrudePrev</th>\n",
              "      <th>OBESITY_CrudePrev</th>\n",
              "      <th>PAPTEST_CrudePrev</th>\n",
              "      <th>PHLTH_CrudePrev</th>\n",
              "      <th>SLEEP_CrudePrev</th>\n",
              "      <th>STROKE_CrudePrev</th>\n",
              "      <th>TEETHLOST_CrudePrev</th>\n",
              "    </tr>\n",
              "  </thead>\n",
              "  <tbody>\n",
              "    <tr>\n",
              "      <th>229</th>\n",
              "      <td>22.3</td>\n",
              "      <td>25.3</td>\n",
              "      <td>17.3</td>\n",
              "      <td>34.5</td>\n",
              "      <td>77.2</td>\n",
              "      <td>6.4</td>\n",
              "      <td>9.7</td>\n",
              "      <td>6.8</td>\n",
              "      <td>69.8</td>\n",
              "      <td>71.9</td>\n",
              "      <td>60.8</td>\n",
              "      <td>7.2</td>\n",
              "      <td>35.2</td>\n",
              "      <td>29.5</td>\n",
              "      <td>19.8</td>\n",
              "      <td>55.8</td>\n",
              "      <td>12.2</td>\n",
              "      <td>37.7</td>\n",
              "      <td>3.2</td>\n",
              "      <td>28.8</td>\n",
              "      <td>75.3</td>\n",
              "      <td>13.6</td>\n",
              "      <td>36.2</td>\n",
              "      <td>80.8</td>\n",
              "      <td>13.8</td>\n",
              "      <td>35.2</td>\n",
              "      <td>3.7</td>\n",
              "      <td>16.5</td>\n",
              "    </tr>\n",
              "    <tr>\n",
              "      <th>337</th>\n",
              "      <td>22.4</td>\n",
              "      <td>20.2</td>\n",
              "      <td>16.5</td>\n",
              "      <td>25.7</td>\n",
              "      <td>68.3</td>\n",
              "      <td>4.5</td>\n",
              "      <td>9.1</td>\n",
              "      <td>5.5</td>\n",
              "      <td>67.2</td>\n",
              "      <td>67.1</td>\n",
              "      <td>53.8</td>\n",
              "      <td>6.7</td>\n",
              "      <td>29.6</td>\n",
              "      <td>25.0</td>\n",
              "      <td>21.1</td>\n",
              "      <td>54.2</td>\n",
              "      <td>11.3</td>\n",
              "      <td>32.5</td>\n",
              "      <td>2.9</td>\n",
              "      <td>27.8</td>\n",
              "      <td>74.4</td>\n",
              "      <td>15.8</td>\n",
              "      <td>29.0</td>\n",
              "      <td>79.8</td>\n",
              "      <td>14.4</td>\n",
              "      <td>43.1</td>\n",
              "      <td>3.0</td>\n",
              "      <td>18.2</td>\n",
              "    </tr>\n",
              "    <tr>\n",
              "      <th>327</th>\n",
              "      <td>9.0</td>\n",
              "      <td>18.3</td>\n",
              "      <td>23.0</td>\n",
              "      <td>19.1</td>\n",
              "      <td>68.1</td>\n",
              "      <td>4.6</td>\n",
              "      <td>9.8</td>\n",
              "      <td>3.6</td>\n",
              "      <td>66.1</td>\n",
              "      <td>66.4</td>\n",
              "      <td>73.4</td>\n",
              "      <td>4.4</td>\n",
              "      <td>38.6</td>\n",
              "      <td>41.2</td>\n",
              "      <td>13.2</td>\n",
              "      <td>75.5</td>\n",
              "      <td>5.7</td>\n",
              "      <td>29.3</td>\n",
              "      <td>1.9</td>\n",
              "      <td>15.7</td>\n",
              "      <td>84.1</td>\n",
              "      <td>12.3</td>\n",
              "      <td>23.4</td>\n",
              "      <td>83.6</td>\n",
              "      <td>7.9</td>\n",
              "      <td>31.1</td>\n",
              "      <td>1.7</td>\n",
              "      <td>6.6</td>\n",
              "    </tr>\n",
              "    <tr>\n",
              "      <th>416</th>\n",
              "      <td>11.3</td>\n",
              "      <td>20.7</td>\n",
              "      <td>20.7</td>\n",
              "      <td>22.5</td>\n",
              "      <td>66.9</td>\n",
              "      <td>5.5</td>\n",
              "      <td>8.9</td>\n",
              "      <td>4.2</td>\n",
              "      <td>60.6</td>\n",
              "      <td>74.6</td>\n",
              "      <td>65.2</td>\n",
              "      <td>4.3</td>\n",
              "      <td>37.9</td>\n",
              "      <td>34.9</td>\n",
              "      <td>17.2</td>\n",
              "      <td>68.7</td>\n",
              "      <td>6.1</td>\n",
              "      <td>30.6</td>\n",
              "      <td>2.2</td>\n",
              "      <td>15.4</td>\n",
              "      <td>74.5</td>\n",
              "      <td>10.6</td>\n",
              "      <td>24.0</td>\n",
              "      <td>83.5</td>\n",
              "      <td>9.7</td>\n",
              "      <td>29.1</td>\n",
              "      <td>2.1</td>\n",
              "      <td>11.0</td>\n",
              "    </tr>\n",
              "    <tr>\n",
              "      <th>306</th>\n",
              "      <td>27.4</td>\n",
              "      <td>23.9</td>\n",
              "      <td>18.1</td>\n",
              "      <td>32.5</td>\n",
              "      <td>76.7</td>\n",
              "      <td>5.4</td>\n",
              "      <td>8.6</td>\n",
              "      <td>6.5</td>\n",
              "      <td>69.8</td>\n",
              "      <td>72.3</td>\n",
              "      <td>60.4</td>\n",
              "      <td>6.0</td>\n",
              "      <td>31.5</td>\n",
              "      <td>29.8</td>\n",
              "      <td>16.7</td>\n",
              "      <td>56.9</td>\n",
              "      <td>14.4</td>\n",
              "      <td>38.2</td>\n",
              "      <td>3.2</td>\n",
              "      <td>30.0</td>\n",
              "      <td>79.8</td>\n",
              "      <td>12.2</td>\n",
              "      <td>37.2</td>\n",
              "      <td>82.3</td>\n",
              "      <td>14.1</td>\n",
              "      <td>33.9</td>\n",
              "      <td>3.1</td>\n",
              "      <td>15.1</td>\n",
              "    </tr>\n",
              "  </tbody>\n",
              "</table>\n",
              "</div>"
            ],
            "text/plain": [
              "     ACCESS2_CrudePrev  ...  TEETHLOST_CrudePrev\n",
              "229               22.3  ...                 16.5\n",
              "337               22.4  ...                 18.2\n",
              "327                9.0  ...                  6.6\n",
              "416               11.3  ...                 11.0\n",
              "306               27.4  ...                 15.1\n",
              "\n",
              "[5 rows x 28 columns]"
            ]
          },
          "metadata": {
            "tags": []
          },
          "execution_count": 20
        }
      ]
    },
    {
      "cell_type": "code",
      "metadata": {
        "id": "lxoAHFthXNHu",
        "colab_type": "code",
        "outputId": "37e453f2-7464-4394-a230-d43335154ac7",
        "colab": {
          "base_uri": "https://localhost:8080/",
          "height": 117
        }
      },
      "source": [
        "y.head()"
      ],
      "execution_count": 0,
      "outputs": [
        {
          "output_type": "execute_result",
          "data": {
            "text/plain": [
              "229    0\n",
              "337    1\n",
              "327    1\n",
              "416    1\n",
              "306    1\n",
              "Name: Population2010, dtype: object"
            ]
          },
          "metadata": {
            "tags": []
          },
          "execution_count": 21
        }
      ]
    },
    {
      "cell_type": "code",
      "metadata": {
        "id": "msGTIvAZXNKF",
        "colab_type": "code",
        "colab": {}
      },
      "source": [
        "validation_size = 0.20\n",
        "seed = 123\n",
        "X_train, X_validation, y_train, y_validation = train_test_split(X, y, test_size=validation_size, random_state=seed)"
      ],
      "execution_count": 0,
      "outputs": []
    },
    {
      "cell_type": "code",
      "metadata": {
        "id": "8u5HcwOEXNNF",
        "colab_type": "code",
        "colab": {}
      },
      "source": [
        "# Spot-Check Algorithms\n",
        "models = []\n",
        "models.append(('GBC', GradientBoostingClassifier()))\n",
        "models.append(('CART', DecisionTreeClassifier()))\n",
        "models.append(('RFC', RandomForestClassifier()))\n",
        "models.append(('LDA', LinearDiscriminantAnalysis()))\n",
        "models.append(('LR', LogisticRegression(max_iter=1000000)))\n",
        "models.append(('KNN', KNeighborsClassifier()))\n",
        "models.append(('NB', GaussianNB()))\n",
        "models.append(('ETC', ExtraTreesClassifier()))\n",
        "models.append(('BC', BaggingClassifier()))"
      ],
      "execution_count": 0,
      "outputs": []
    },
    {
      "cell_type": "code",
      "metadata": {
        "id": "okv45o3PR6e9",
        "colab_type": "code",
        "outputId": "86327464-848e-4fbc-eb8d-10d8d3a162de",
        "colab": {
          "base_uri": "https://localhost:8080/",
          "height": 167
        }
      },
      "source": [
        "# evaluate each model in turn\n",
        "results = []\n",
        "names = []\n",
        "# store preds\n",
        "from sklearn.model_selection import cross_val_predict\n",
        "dwPreds = []\n",
        "for name, model in models:\n",
        "  kfold = KFold(n_splits=20, random_state=seed, shuffle=True)\n",
        "  cv_results = cross_val_score(model, X_train, y_train, cv=kfold, scoring='accuracy')\n",
        "  results.append(cv_results)\n",
        "  names.append(name)\n",
        "  msg = \"%s: %f (%f)\" % (name, cv_results.mean(), cv_results.std())\n",
        "  print(msg)"
      ],
      "execution_count": 0,
      "outputs": [
        {
          "output_type": "stream",
          "text": [
            "GBC: 0.635234 (0.100228)\n",
            "CART: 0.533772 (0.110724)\n",
            "RFC: 0.579678 (0.150131)\n",
            "LDA: 0.555702 (0.104777)\n",
            "LR: 0.547515 (0.104390)\n",
            "KNN: 0.552339 (0.124277)\n",
            "NB: 0.599415 (0.097487)\n",
            "ETC: 0.560819 (0.149213)\n",
            "BC: 0.518860 (0.153319)\n"
          ],
          "name": "stdout"
        }
      ]
    },
    {
      "cell_type": "markdown",
      "metadata": {
        "id": "ZjJzyDGNeWIP",
        "colab_type": "text"
      },
      "source": [
        "On looking at the results, we can observe that Gradient Boosting Classifier is the best one."
      ]
    },
    {
      "cell_type": "markdown",
      "metadata": {
        "id": "kscvJG4HdA4r",
        "colab_type": "text"
      },
      "source": [
        ""
      ]
    },
    {
      "cell_type": "code",
      "metadata": {
        "id": "e4YXSpHBQOAG",
        "colab_type": "code",
        "outputId": "2b7885e4-e694-43ac-eae1-bd1a85d9d77c",
        "colab": {
          "base_uri": "https://localhost:8080/",
          "height": 217
        }
      },
      "source": [
        "# Make predictions on validation dataset\n",
        "model1 = GradientBoostingClassifier()\n",
        "model1.fit(X_train, y_train)\n",
        "predictions = model1.predict(X_validation)\n",
        "print(accuracy_score(y_validation, predictions))\n",
        "print(confusion_matrix(y_validation, predictions))\n",
        "print(classification_report(y_validation, predictions))"
      ],
      "execution_count": 0,
      "outputs": [
        {
          "output_type": "stream",
          "text": [
            "0.4945054945054945\n",
            "[[24 18]\n",
            " [28 21]]\n",
            "              precision    recall  f1-score   support\n",
            "\n",
            "           0       0.46      0.57      0.51        42\n",
            "           1       0.54      0.43      0.48        49\n",
            "\n",
            "    accuracy                           0.49        91\n",
            "   macro avg       0.50      0.50      0.49        91\n",
            "weighted avg       0.50      0.49      0.49        91\n",
            "\n"
          ],
          "name": "stdout"
        }
      ]
    },
    {
      "cell_type": "code",
      "metadata": {
        "id": "WlAWJZGUQODP",
        "colab_type": "code",
        "outputId": "ebf41fdf-1c87-481e-cd3a-8f13e5ef55fb",
        "colab": {
          "base_uri": "https://localhost:8080/",
          "height": 385
        }
      },
      "source": [
        "# Time for some hyperparameter tuning\n",
        "#Lets get some information about parameters involved in Gradient boosting\n",
        "from sklearn.model_selection import GridSearchCV\n",
        "GradientBoostingClassifier().get_params()"
      ],
      "execution_count": 0,
      "outputs": [
        {
          "output_type": "execute_result",
          "data": {
            "text/plain": [
              "{'ccp_alpha': 0.0,\n",
              " 'criterion': 'friedman_mse',\n",
              " 'init': None,\n",
              " 'learning_rate': 0.1,\n",
              " 'loss': 'deviance',\n",
              " 'max_depth': 3,\n",
              " 'max_features': None,\n",
              " 'max_leaf_nodes': None,\n",
              " 'min_impurity_decrease': 0.0,\n",
              " 'min_impurity_split': None,\n",
              " 'min_samples_leaf': 1,\n",
              " 'min_samples_split': 2,\n",
              " 'min_weight_fraction_leaf': 0.0,\n",
              " 'n_estimators': 100,\n",
              " 'n_iter_no_change': None,\n",
              " 'presort': 'deprecated',\n",
              " 'random_state': None,\n",
              " 'subsample': 1.0,\n",
              " 'tol': 0.0001,\n",
              " 'validation_fraction': 0.1,\n",
              " 'verbose': 0,\n",
              " 'warm_start': False}"
            ]
          },
          "metadata": {
            "tags": []
          },
          "execution_count": 28
        }
      ]
    },
    {
      "cell_type": "code",
      "metadata": {
        "id": "pb4hPt-CQOI9",
        "colab_type": "code",
        "colab": {}
      },
      "source": [
        "#Lets assign a list of parameter values now\n",
        "param_range1 = [20,30,40]\n",
        "param_range2 = [4,5,6]\n",
        "param_range3 = [5,6,7]"
      ],
      "execution_count": 0,
      "outputs": []
    },
    {
      "cell_type": "code",
      "metadata": {
        "id": "gmj2duuhQOOZ",
        "colab_type": "code",
        "colab": {}
      },
      "source": [
        "grid_parameters = [{\n",
        "    'max_leaf_nodes': param_range2,\n",
        "    'max_depth': param_range3,\n",
        "    'n_estimators': param_range1\n",
        " }]\n"
      ],
      "execution_count": 0,
      "outputs": []
    },
    {
      "cell_type": "code",
      "metadata": {
        "id": "DD9uWlM7QOR3",
        "colab_type": "code",
        "outputId": "35bf4df5-b1ae-40f0-f18b-0107906664ad",
        "colab": {
          "base_uri": "https://localhost:8080/",
          "height": 518
        }
      },
      "source": [
        "grid = GridSearchCV(GradientBoostingClassifier(), param_grid = grid_parameters, cv = 20, verbose = 5, n_jobs = -1)\n",
        "grid.fit(X_train, y_train)"
      ],
      "execution_count": 0,
      "outputs": [
        {
          "output_type": "stream",
          "text": [
            "Fitting 20 folds for each of 27 candidates, totalling 540 fits\n"
          ],
          "name": "stdout"
        },
        {
          "output_type": "stream",
          "text": [
            "[Parallel(n_jobs=-1)]: Using backend LokyBackend with 2 concurrent workers.\n",
            "[Parallel(n_jobs=-1)]: Done  24 tasks      | elapsed:    1.1s\n",
            "[Parallel(n_jobs=-1)]: Done 132 tasks      | elapsed:    8.4s\n",
            "[Parallel(n_jobs=-1)]: Done 312 tasks      | elapsed:   20.4s\n",
            "[Parallel(n_jobs=-1)]: Done 540 out of 540 | elapsed:   36.5s finished\n"
          ],
          "name": "stderr"
        },
        {
          "output_type": "execute_result",
          "data": {
            "text/plain": [
              "GridSearchCV(cv=20, error_score=nan,\n",
              "             estimator=GradientBoostingClassifier(ccp_alpha=0.0,\n",
              "                                                  criterion='friedman_mse',\n",
              "                                                  init=None, learning_rate=0.1,\n",
              "                                                  loss='deviance', max_depth=3,\n",
              "                                                  max_features=None,\n",
              "                                                  max_leaf_nodes=None,\n",
              "                                                  min_impurity_decrease=0.0,\n",
              "                                                  min_impurity_split=None,\n",
              "                                                  min_samples_leaf=1,\n",
              "                                                  min_samples_split=2,\n",
              "                                                  min_weight_fraction_leaf=0.0,\n",
              "                                                  n_estimators=100,\n",
              "                                                  n_iter_no_change=None,\n",
              "                                                  presort='deprecated',\n",
              "                                                  random_state=None,\n",
              "                                                  subsample=1.0, tol=0.0001,\n",
              "                                                  validation_fraction=0.1,\n",
              "                                                  verbose=0, warm_start=False),\n",
              "             iid='deprecated', n_jobs=-1,\n",
              "             param_grid=[{'max_depth': [5, 6, 7], 'max_leaf_nodes': [4, 5, 6],\n",
              "                          'n_estimators': [20, 30, 40]}],\n",
              "             pre_dispatch='2*n_jobs', refit=True, return_train_score=False,\n",
              "             scoring=None, verbose=5)"
            ]
          },
          "metadata": {
            "tags": []
          },
          "execution_count": 41
        }
      ]
    },
    {
      "cell_type": "code",
      "metadata": {
        "id": "lYXRxdN2QOLm",
        "colab_type": "code",
        "outputId": "541b55d7-be16-4589-c881-dc9520f81ee9",
        "colab": {
          "base_uri": "https://localhost:8080/",
          "height": 33
        }
      },
      "source": [
        "#Lets use some interesting functions that grid search provides us to find out best parameters and score associated with it\n",
        "grid.best_params_"
      ],
      "execution_count": 0,
      "outputs": [
        {
          "output_type": "execute_result",
          "data": {
            "text/plain": [
              "{'max_depth': 5, 'max_leaf_nodes': 6, 'n_estimators': 40}"
            ]
          },
          "metadata": {
            "tags": []
          },
          "execution_count": 42
        }
      ]
    },
    {
      "cell_type": "code",
      "metadata": {
        "id": "poNBrcYpIHGF",
        "colab_type": "code",
        "outputId": "ade19e25-0980-4a7a-e101-13e5ace56555",
        "colab": {
          "base_uri": "https://localhost:8080/",
          "height": 33
        }
      },
      "source": [
        "grid.best_score_"
      ],
      "execution_count": 0,
      "outputs": [
        {
          "output_type": "execute_result",
          "data": {
            "text/plain": [
              "0.6402046783625731"
            ]
          },
          "metadata": {
            "tags": []
          },
          "execution_count": 43
        }
      ]
    },
    {
      "cell_type": "code",
      "metadata": {
        "id": "S4Kl6AfvIHJK",
        "colab_type": "code",
        "colab": {}
      },
      "source": [
        ""
      ],
      "execution_count": 0,
      "outputs": []
    },
    {
      "cell_type": "code",
      "metadata": {
        "id": "9UYQ3ITuIHLt",
        "colab_type": "code",
        "colab": {}
      },
      "source": [
        ""
      ],
      "execution_count": 0,
      "outputs": []
    },
    {
      "cell_type": "code",
      "metadata": {
        "id": "vMyzlIJWIHRV",
        "colab_type": "code",
        "colab": {}
      },
      "source": [
        ""
      ],
      "execution_count": 0,
      "outputs": []
    },
    {
      "cell_type": "code",
      "metadata": {
        "id": "2oPh51QLIHT5",
        "colab_type": "code",
        "colab": {}
      },
      "source": [
        ""
      ],
      "execution_count": 0,
      "outputs": []
    },
    {
      "cell_type": "code",
      "metadata": {
        "id": "nGzSPtM4IHWm",
        "colab_type": "code",
        "colab": {}
      },
      "source": [
        ""
      ],
      "execution_count": 0,
      "outputs": []
    },
    {
      "cell_type": "code",
      "metadata": {
        "id": "8jvTUGnpIHZG",
        "colab_type": "code",
        "colab": {}
      },
      "source": [
        ""
      ],
      "execution_count": 0,
      "outputs": []
    },
    {
      "cell_type": "code",
      "metadata": {
        "id": "mtYhV6izIHb0",
        "colab_type": "code",
        "colab": {}
      },
      "source": [
        ""
      ],
      "execution_count": 0,
      "outputs": []
    },
    {
      "cell_type": "code",
      "metadata": {
        "id": "sF7H_GRZIHes",
        "colab_type": "code",
        "colab": {}
      },
      "source": [
        ""
      ],
      "execution_count": 0,
      "outputs": []
    },
    {
      "cell_type": "code",
      "metadata": {
        "id": "TgcqhQ19IHhb",
        "colab_type": "code",
        "colab": {}
      },
      "source": [
        ""
      ],
      "execution_count": 0,
      "outputs": []
    },
    {
      "cell_type": "code",
      "metadata": {
        "id": "FVDln2n6IHkK",
        "colab_type": "code",
        "colab": {}
      },
      "source": [
        ""
      ],
      "execution_count": 0,
      "outputs": []
    },
    {
      "cell_type": "code",
      "metadata": {
        "id": "M7FbsiF6IHms",
        "colab_type": "code",
        "colab": {}
      },
      "source": [
        ""
      ],
      "execution_count": 0,
      "outputs": []
    },
    {
      "cell_type": "code",
      "metadata": {
        "id": "s3Qh9cvYIHpx",
        "colab_type": "code",
        "colab": {}
      },
      "source": [
        ""
      ],
      "execution_count": 0,
      "outputs": []
    },
    {
      "cell_type": "code",
      "metadata": {
        "id": "ywYi3k4ZIHOh",
        "colab_type": "code",
        "colab": {}
      },
      "source": [
        ""
      ],
      "execution_count": 0,
      "outputs": []
    },
    {
      "cell_type": "code",
      "metadata": {
        "id": "Ttdv2kUXQOGV",
        "colab_type": "code",
        "colab": {}
      },
      "source": [
        ""
      ],
      "execution_count": 0,
      "outputs": []
    }
  ]
}